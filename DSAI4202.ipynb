{
  "cells": [
    {
      "cell_type": "markdown",
      "metadata": {
        "id": "Q5hshYB_08Cc"
      },
      "source": [
        "# **Analysis of Big data**\n"
      ]
    },
    {
      "cell_type": "markdown",
      "metadata": {
        "id": "WR1POcaZMkQ1"
      },
      "source": []
    },
    {
      "cell_type": "markdown",
      "metadata": {
        "id": "Uv_4Tvh7-o7O"
      },
      "source": [
        "# Setting up PySpark"
      ]
    },
    {
      "cell_type": "code",
      "execution_count": 1,
      "metadata": {
        "id": "Hm8QQSvq97fd"
      },
      "outputs": [],
      "source": [
        "!apt-get install openjdk-8-jdk-headless -qq > /dev/null\n",
        "!wget -q https://dlcdn.apache.org/spark/spark-3.5.5/spark-3.5.5-bin-hadoop3.tgz\n",
        "!tar xf spark-3.5.5-bin-hadoop3.tgz\n",
        "!pip install -q findspark"
      ]
    },
    {
      "cell_type": "code",
      "execution_count": 2,
      "metadata": {
        "id": "a28UKj9Z-aEc"
      },
      "outputs": [],
      "source": [
        "import os\n",
        "os.environ[\"JAVA_HOME\"] = \"/usr/lib/jvm/java-8-openjdk-amd64\"\n",
        "#os.environ[\"SPARK_HOME\"] = \"/content/spark-3.2.1-bin-hadoop3.2\"\n",
        "os.environ[\"SPARK_HOME\"] = \"/content/spark-3.5.5-bin-hadoop3\""
      ]
    },
    {
      "cell_type": "code",
      "execution_count": 3,
      "metadata": {
        "id": "SNaBZRBU-d6y"
      },
      "outputs": [],
      "source": [
        "import findspark\n",
        "findspark.init()\n",
        "from pyspark.sql import SparkSession\n",
        "spark = SparkSession.builder.master(\"local[*]\").getOrCreate()"
      ]
    },
    {
      "cell_type": "markdown",
      "metadata": {
        "id": "y4jABpAA_BDP"
      },
      "source": [
        "# Import Packages"
      ]
    },
    {
      "cell_type": "code",
      "execution_count": 4,
      "metadata": {
        "id": "otG68VBO_AfF"
      },
      "outputs": [],
      "source": [
        "import pandas as pd\n",
        "import numpy as np\n",
        "import matplotlib.pyplot as plt\n",
        "%matplotlib inline\n",
        "import seaborn as sns\n",
        "\n",
        "import warnings\n",
        "warnings.filterwarnings(\"ignore\")\n",
        "warnings.filterwarnings(\"ignore\", category=DeprecationWarning)\n",
        "\n",
        "\n",
        "from pyspark.sql.types import DoubleType, IntegerType, StringType\n",
        "from pyspark.sql.functions import isnull, when, count, isnan, col, lit, udf, dayofweek, date_format, month, countDistinct\n",
        "from pyspark.sql import functions as F\n",
        "from pyspark.ml import Pipeline\n",
        "from pyspark.ml.stat import ChiSquareTest, Correlation\n",
        "from pyspark.ml.feature import VectorAssembler, StringIndexer, OneHotEncoder, UnivariateFeatureSelector\n",
        "from pyspark.sql.functions import col, when\n",
        "from pyspark.ml.tuning import ParamGridBuilder, CrossValidator\n",
        "from pyspark.ml.classification import LogisticRegression, DecisionTreeClassifier, RandomForestClassifier, GBTClassifier\n",
        "from pyspark.ml.evaluation import BinaryClassificationEvaluator, MulticlassClassificationEvaluator\n",
        "from pyspark.mllib.evaluation import BinaryClassificationMetrics, MulticlassMetrics"
      ]
    },
    {
      "cell_type": "markdown",
      "metadata": {
        "id": "qMPjP6Ys_I6p"
      },
      "source": [
        "# Loading the Data\n",
        "\n",
        "https://www.kaggle.com/datasets/joebeachcapital/coronavirus-covid-19-cases-daily-updates?select=Coronavirus_cases_daily_update.csv"
      ]
    },
    {
      "cell_type": "code",
      "source": [
        "import kagglehub\n",
        "\n",
        "path = kagglehub.dataset_download(\"joebeachcapital/coronavirus-covid-19-cases-daily-updates\")\n",
        "\n",
        "print(\"Path to dataset files:\", path)"
      ],
      "metadata": {
        "colab": {
          "base_uri": "https://localhost:8080/"
        },
        "id": "4q-uKPyJVdJ4",
        "outputId": "f6680dfc-5749-4da8-e5e3-bc6e4272d114"
      },
      "execution_count": 5,
      "outputs": [
        {
          "output_type": "stream",
          "name": "stdout",
          "text": [
            "Downloading from https://www.kaggle.com/api/v1/datasets/download/joebeachcapital/coronavirus-covid-19-cases-daily-updates?dataset_version_number=506...\n"
          ]
        },
        {
          "output_type": "stream",
          "name": "stderr",
          "text": [
            "100%|██████████| 10.4M/10.4M [00:00<00:00, 55.3MB/s]"
          ]
        },
        {
          "output_type": "stream",
          "name": "stdout",
          "text": [
            "Extracting files...\n"
          ]
        },
        {
          "output_type": "stream",
          "name": "stderr",
          "text": [
            "\n"
          ]
        },
        {
          "output_type": "stream",
          "name": "stdout",
          "text": [
            "Path to dataset files: /root/.cache/kagglehub/datasets/joebeachcapital/coronavirus-covid-19-cases-daily-updates/versions/506\n"
          ]
        }
      ]
    },
    {
      "cell_type": "code",
      "source": [
        "print(os.listdir(path))"
      ],
      "metadata": {
        "colab": {
          "base_uri": "https://localhost:8080/"
        },
        "id": "Tm5nhv0ZWEwe",
        "outputId": "9689f88e-55e5-459b-f881-40fb4b925790"
      },
      "execution_count": null,
      "outputs": [
        {
          "output_type": "stream",
          "name": "stdout",
          "text": [
            "['README', 'Coronavirus_cases_daily_update.csv', 'owid_covid_codebook.csv']\n"
          ]
        }
      ]
    },
    {
      "cell_type": "code",
      "source": [
        "file_path = path + \"/Coronavirus_cases_daily_update.csv\"\n",
        "df = spark.read.csv(file_path, header=True, inferSchema=True)\n",
        "\n",
        "# Show first few rows\n",
        "df.show(5)"
      ],
      "metadata": {
        "colab": {
          "base_uri": "https://localhost:8080/"
        },
        "id": "kb-xLlnkWMB0",
        "outputId": "6e6bd44f-b6d4-4121-f700-408613adbe04"
      },
      "execution_count": 6,
      "outputs": [
        {
          "output_type": "stream",
          "name": "stdout",
          "text": [
            "+--------+---------+-----------+----------+-----------+---------+------------------+------------+----------+-------------------+-----------------------+---------------------+------------------------------+------------------------+----------------------+-------------------------------+-----------------+------------+------------------------+-------------+-------------------------+---------------------+---------------------------------+----------------------+----------------------------------+-----------+---------+------------------------+----------------------+------------------+-------------------------------+-------------+--------------+-----------+------------------+-----------------+-----------------------+--------------+----------------+-------------------------+------------------------------+-----------------------------+-----------------------------------+--------------------------+-------------------------------------+------------------------------+------------------------------------------+----------------+------------------+----------+-------------+-------------+--------------+---------------+---------------------+-------------------+--------------+------------+----------------------+--------------------------+---------------+-----------------------+----------+------------------------------------+---------------------------+----------------+---------------------------------------+\n",
            "|iso_code|continent|   location|      date|total_cases|new_cases|new_cases_smoothed|total_deaths|new_deaths|new_deaths_smoothed|total_cases_per_million|new_cases_per_million|new_cases_smoothed_per_million|total_deaths_per_million|new_deaths_per_million|new_deaths_smoothed_per_million|reproduction_rate|icu_patients|icu_patients_per_million|hosp_patients|hosp_patients_per_million|weekly_icu_admissions|weekly_icu_admissions_per_million|weekly_hosp_admissions|weekly_hosp_admissions_per_million|total_tests|new_tests|total_tests_per_thousand|new_tests_per_thousand|new_tests_smoothed|new_tests_smoothed_per_thousand|positive_rate|tests_per_case|tests_units|total_vaccinations|people_vaccinated|people_fully_vaccinated|total_boosters|new_vaccinations|new_vaccinations_smoothed|total_vaccinations_per_hundred|people_vaccinated_per_hundred|people_fully_vaccinated_per_hundred|total_boosters_per_hundred|new_vaccinations_smoothed_per_million|new_people_vaccinated_smoothed|new_people_vaccinated_smoothed_per_hundred|stringency_index|population_density|median_age|aged_65_older|aged_70_older|gdp_per_capita|extreme_poverty|cardiovasc_death_rate|diabetes_prevalence|female_smokers|male_smokers|handwashing_facilities|hospital_beds_per_thousand|life_expectancy|human_development_index|population|excess_mortality_cumulative_absolute|excess_mortality_cumulative|excess_mortality|excess_mortality_cumulative_per_million|\n",
            "+--------+---------+-----------+----------+-----------+---------+------------------+------------+----------+-------------------+-----------------------+---------------------+------------------------------+------------------------+----------------------+-------------------------------+-----------------+------------+------------------------+-------------+-------------------------+---------------------+---------------------------------+----------------------+----------------------------------+-----------+---------+------------------------+----------------------+------------------+-------------------------------+-------------+--------------+-----------+------------------+-----------------+-----------------------+--------------+----------------+-------------------------+------------------------------+-----------------------------+-----------------------------------+--------------------------+-------------------------------------+------------------------------+------------------------------------------+----------------+------------------+----------+-------------+-------------+--------------+---------------+---------------------+-------------------+--------------+------------+----------------------+--------------------------+---------------+-----------------------+----------+------------------------------------+---------------------------+----------------+---------------------------------------+\n",
            "|     AFG|     Asia|Afghanistan|2020-01-05|        0.0|      0.0|              NULL|         0.0|       0.0|               NULL|                    0.0|                  0.0|                          NULL|                     0.0|                   0.0|                           NULL|             NULL|        NULL|                    NULL|         NULL|                     NULL|                 NULL|                             NULL|                  NULL|                              NULL|       NULL|     NULL|                    NULL|                  NULL|              NULL|                           NULL|         NULL|          NULL|       NULL|              NULL|             NULL|                   NULL|          NULL|            NULL|                     NULL|                          NULL|                         NULL|                               NULL|                      NULL|                                 NULL|                          NULL|                                      NULL|             0.0|            54.422|      18.6|        2.581|        1.337|      1803.987|           NULL|              597.029|               9.59|          NULL|        NULL|                37.746|                       0.5|          64.83|                  0.511|  41128772|                                NULL|                       NULL|            NULL|                                   NULL|\n",
            "|     AFG|     Asia|Afghanistan|2020-01-06|        0.0|      0.0|              NULL|         0.0|       0.0|               NULL|                    0.0|                  0.0|                          NULL|                     0.0|                   0.0|                           NULL|             NULL|        NULL|                    NULL|         NULL|                     NULL|                 NULL|                             NULL|                  NULL|                              NULL|       NULL|     NULL|                    NULL|                  NULL|              NULL|                           NULL|         NULL|          NULL|       NULL|              NULL|             NULL|                   NULL|          NULL|            NULL|                     NULL|                          NULL|                         NULL|                               NULL|                      NULL|                                 NULL|                          NULL|                                      NULL|             0.0|            54.422|      18.6|        2.581|        1.337|      1803.987|           NULL|              597.029|               9.59|          NULL|        NULL|                37.746|                       0.5|          64.83|                  0.511|  41128772|                                NULL|                       NULL|            NULL|                                   NULL|\n",
            "|     AFG|     Asia|Afghanistan|2020-01-07|        0.0|      0.0|              NULL|         0.0|       0.0|               NULL|                    0.0|                  0.0|                          NULL|                     0.0|                   0.0|                           NULL|             NULL|        NULL|                    NULL|         NULL|                     NULL|                 NULL|                             NULL|                  NULL|                              NULL|       NULL|     NULL|                    NULL|                  NULL|              NULL|                           NULL|         NULL|          NULL|       NULL|              NULL|             NULL|                   NULL|          NULL|            NULL|                     NULL|                          NULL|                         NULL|                               NULL|                      NULL|                                 NULL|                          NULL|                                      NULL|             0.0|            54.422|      18.6|        2.581|        1.337|      1803.987|           NULL|              597.029|               9.59|          NULL|        NULL|                37.746|                       0.5|          64.83|                  0.511|  41128772|                                NULL|                       NULL|            NULL|                                   NULL|\n",
            "|     AFG|     Asia|Afghanistan|2020-01-08|        0.0|      0.0|              NULL|         0.0|       0.0|               NULL|                    0.0|                  0.0|                          NULL|                     0.0|                   0.0|                           NULL|             NULL|        NULL|                    NULL|         NULL|                     NULL|                 NULL|                             NULL|                  NULL|                              NULL|       NULL|     NULL|                    NULL|                  NULL|              NULL|                           NULL|         NULL|          NULL|       NULL|              NULL|             NULL|                   NULL|          NULL|            NULL|                     NULL|                          NULL|                         NULL|                               NULL|                      NULL|                                 NULL|                          NULL|                                      NULL|             0.0|            54.422|      18.6|        2.581|        1.337|      1803.987|           NULL|              597.029|               9.59|          NULL|        NULL|                37.746|                       0.5|          64.83|                  0.511|  41128772|                                NULL|                       NULL|            NULL|                                   NULL|\n",
            "|     AFG|     Asia|Afghanistan|2020-01-09|        0.0|      0.0|              NULL|         0.0|       0.0|               NULL|                    0.0|                  0.0|                          NULL|                     0.0|                   0.0|                           NULL|             NULL|        NULL|                    NULL|         NULL|                     NULL|                 NULL|                             NULL|                  NULL|                              NULL|       NULL|     NULL|                    NULL|                  NULL|              NULL|                           NULL|         NULL|          NULL|       NULL|              NULL|             NULL|                   NULL|          NULL|            NULL|                     NULL|                          NULL|                         NULL|                               NULL|                      NULL|                                 NULL|                          NULL|                                      NULL|             0.0|            54.422|      18.6|        2.581|        1.337|      1803.987|           NULL|              597.029|               9.59|          NULL|        NULL|                37.746|                       0.5|          64.83|                  0.511|  41128772|                                NULL|                       NULL|            NULL|                                   NULL|\n",
            "+--------+---------+-----------+----------+-----------+---------+------------------+------------+----------+-------------------+-----------------------+---------------------+------------------------------+------------------------+----------------------+-------------------------------+-----------------+------------+------------------------+-------------+-------------------------+---------------------+---------------------------------+----------------------+----------------------------------+-----------+---------+------------------------+----------------------+------------------+-------------------------------+-------------+--------------+-----------+------------------+-----------------+-----------------------+--------------+----------------+-------------------------+------------------------------+-----------------------------+-----------------------------------+--------------------------+-------------------------------------+------------------------------+------------------------------------------+----------------+------------------+----------+-------------+-------------+--------------+---------------+---------------------+-------------------+--------------+------------+----------------------+--------------------------+---------------+-----------------------+----------+------------------------------------+---------------------------+----------------+---------------------------------------+\n",
            "only showing top 5 rows\n",
            "\n"
          ]
        }
      ]
    },
    {
      "cell_type": "code",
      "execution_count": 7,
      "metadata": {
        "colab": {
          "base_uri": "https://localhost:8080/",
          "height": 181
        },
        "id": "D9o6proeCmj-",
        "outputId": "d148f73f-7ace-444e-b499-b0e411c7a22d"
      },
      "outputs": [
        {
          "output_type": "display_data",
          "data": {
            "text/plain": [
              "DataFrame[iso_code: string, continent: string, location: string, date: date, total_cases: double, new_cases: double, new_cases_smoothed: double, total_deaths: double, new_deaths: double, new_deaths_smoothed: double, total_cases_per_million: double, new_cases_per_million: double, new_cases_smoothed_per_million: double, total_deaths_per_million: double, new_deaths_per_million: double, new_deaths_smoothed_per_million: double, reproduction_rate: double, icu_patients: double, icu_patients_per_million: double, hosp_patients: double, hosp_patients_per_million: double, weekly_icu_admissions: double, weekly_icu_admissions_per_million: double, weekly_hosp_admissions: double, weekly_hosp_admissions_per_million: double, total_tests: double, new_tests: double, total_tests_per_thousand: double, new_tests_per_thousand: double, new_tests_smoothed: double, new_tests_smoothed_per_thousand: double, positive_rate: double, tests_per_case: double, tests_units: string, total_vaccinations: double, people_vaccinated: double, people_fully_vaccinated: double, total_boosters: double, new_vaccinations: double, new_vaccinations_smoothed: double, total_vaccinations_per_hundred: double, people_vaccinated_per_hundred: double, people_fully_vaccinated_per_hundred: double, total_boosters_per_hundred: double, new_vaccinations_smoothed_per_million: double, new_people_vaccinated_smoothed: double, new_people_vaccinated_smoothed_per_hundred: double, stringency_index: double, population_density: double, median_age: double, aged_65_older: double, aged_70_older: double, gdp_per_capita: double, extreme_poverty: double, cardiovasc_death_rate: double, diabetes_prevalence: double, female_smokers: double, male_smokers: double, handwashing_facilities: double, hospital_beds_per_thousand: double, life_expectancy: double, human_development_index: double, population: bigint, excess_mortality_cumulative_absolute: double, excess_mortality_cumulative: double, excess_mortality: double, excess_mortality_cumulative_per_million: double]"
            ]
          },
          "metadata": {}
        }
      ],
      "source": [
        "display(df)"
      ]
    },
    {
      "cell_type": "code",
      "source": [
        "df.printSchema()\n"
      ],
      "metadata": {
        "colab": {
          "base_uri": "https://localhost:8080/"
        },
        "id": "VASJf9kQXMzM",
        "outputId": "a060d461-0408-429b-bd5f-0062e492912a"
      },
      "execution_count": 8,
      "outputs": [
        {
          "output_type": "stream",
          "name": "stdout",
          "text": [
            "root\n",
            " |-- iso_code: string (nullable = true)\n",
            " |-- continent: string (nullable = true)\n",
            " |-- location: string (nullable = true)\n",
            " |-- date: date (nullable = true)\n",
            " |-- total_cases: double (nullable = true)\n",
            " |-- new_cases: double (nullable = true)\n",
            " |-- new_cases_smoothed: double (nullable = true)\n",
            " |-- total_deaths: double (nullable = true)\n",
            " |-- new_deaths: double (nullable = true)\n",
            " |-- new_deaths_smoothed: double (nullable = true)\n",
            " |-- total_cases_per_million: double (nullable = true)\n",
            " |-- new_cases_per_million: double (nullable = true)\n",
            " |-- new_cases_smoothed_per_million: double (nullable = true)\n",
            " |-- total_deaths_per_million: double (nullable = true)\n",
            " |-- new_deaths_per_million: double (nullable = true)\n",
            " |-- new_deaths_smoothed_per_million: double (nullable = true)\n",
            " |-- reproduction_rate: double (nullable = true)\n",
            " |-- icu_patients: double (nullable = true)\n",
            " |-- icu_patients_per_million: double (nullable = true)\n",
            " |-- hosp_patients: double (nullable = true)\n",
            " |-- hosp_patients_per_million: double (nullable = true)\n",
            " |-- weekly_icu_admissions: double (nullable = true)\n",
            " |-- weekly_icu_admissions_per_million: double (nullable = true)\n",
            " |-- weekly_hosp_admissions: double (nullable = true)\n",
            " |-- weekly_hosp_admissions_per_million: double (nullable = true)\n",
            " |-- total_tests: double (nullable = true)\n",
            " |-- new_tests: double (nullable = true)\n",
            " |-- total_tests_per_thousand: double (nullable = true)\n",
            " |-- new_tests_per_thousand: double (nullable = true)\n",
            " |-- new_tests_smoothed: double (nullable = true)\n",
            " |-- new_tests_smoothed_per_thousand: double (nullable = true)\n",
            " |-- positive_rate: double (nullable = true)\n",
            " |-- tests_per_case: double (nullable = true)\n",
            " |-- tests_units: string (nullable = true)\n",
            " |-- total_vaccinations: double (nullable = true)\n",
            " |-- people_vaccinated: double (nullable = true)\n",
            " |-- people_fully_vaccinated: double (nullable = true)\n",
            " |-- total_boosters: double (nullable = true)\n",
            " |-- new_vaccinations: double (nullable = true)\n",
            " |-- new_vaccinations_smoothed: double (nullable = true)\n",
            " |-- total_vaccinations_per_hundred: double (nullable = true)\n",
            " |-- people_vaccinated_per_hundred: double (nullable = true)\n",
            " |-- people_fully_vaccinated_per_hundred: double (nullable = true)\n",
            " |-- total_boosters_per_hundred: double (nullable = true)\n",
            " |-- new_vaccinations_smoothed_per_million: double (nullable = true)\n",
            " |-- new_people_vaccinated_smoothed: double (nullable = true)\n",
            " |-- new_people_vaccinated_smoothed_per_hundred: double (nullable = true)\n",
            " |-- stringency_index: double (nullable = true)\n",
            " |-- population_density: double (nullable = true)\n",
            " |-- median_age: double (nullable = true)\n",
            " |-- aged_65_older: double (nullable = true)\n",
            " |-- aged_70_older: double (nullable = true)\n",
            " |-- gdp_per_capita: double (nullable = true)\n",
            " |-- extreme_poverty: double (nullable = true)\n",
            " |-- cardiovasc_death_rate: double (nullable = true)\n",
            " |-- diabetes_prevalence: double (nullable = true)\n",
            " |-- female_smokers: double (nullable = true)\n",
            " |-- male_smokers: double (nullable = true)\n",
            " |-- handwashing_facilities: double (nullable = true)\n",
            " |-- hospital_beds_per_thousand: double (nullable = true)\n",
            " |-- life_expectancy: double (nullable = true)\n",
            " |-- human_development_index: double (nullable = true)\n",
            " |-- population: long (nullable = true)\n",
            " |-- excess_mortality_cumulative_absolute: double (nullable = true)\n",
            " |-- excess_mortality_cumulative: double (nullable = true)\n",
            " |-- excess_mortality: double (nullable = true)\n",
            " |-- excess_mortality_cumulative_per_million: double (nullable = true)\n",
            "\n"
          ]
        }
      ]
    },
    {
      "cell_type": "markdown",
      "source": [
        "**Data Cleaning and Preprocessing**"
      ],
      "metadata": {
        "id": "iXmdyMs6gqKS"
      }
    },
    {
      "cell_type": "code",
      "source": [
        "df.select(\"location\").distinct().count()"
      ],
      "metadata": {
        "colab": {
          "base_uri": "https://localhost:8080/"
        },
        "id": "PbjSh8QxU68c",
        "outputId": "5feba828-6d1c-4ff3-c131-a9c2352abda3"
      },
      "execution_count": 9,
      "outputs": [
        {
          "output_type": "execute_result",
          "data": {
            "text/plain": [
              "255"
            ]
          },
          "metadata": {},
          "execution_count": 9
        }
      ]
    },
    {
      "cell_type": "code",
      "source": [
        "df = df.dropDuplicates()"
      ],
      "metadata": {
        "id": "VIJaeyu1QiM2"
      },
      "execution_count": 10,
      "outputs": []
    },
    {
      "cell_type": "code",
      "source": [
        "from pyspark.sql.functions import col, isnan, isnull\n",
        "from pyspark.sql.types import NumericType\n",
        "\n",
        "# Separate numeric and non-numeric columns\n",
        "numeric_cols = [f.name for f in df.schema.fields if isinstance(f.dataType, NumericType)]\n",
        "non_numeric_cols = [f.name for f in df.schema.fields if not isinstance(f.dataType, NumericType)]\n",
        "\n",
        "# Build condition: isnull for all, isnan only for numeric\n",
        "conditions = [\n",
        "    (isnull(col(c)) | isnan(col(c))) if c in numeric_cols else isnull(col(c))\n",
        "    for c in df.columns\n",
        "]\n",
        "\n",
        "# Count rows with any missing value\n",
        "missing_rows_count = df.filter(\n",
        "    sum(condition.cast(\"int\") for condition in conditions) > 0\n",
        ").count()\n",
        "\n",
        "print(f\"Rows with missing values: {missing_rows_count}\")\n",
        "\n"
      ],
      "metadata": {
        "colab": {
          "base_uri": "https://localhost:8080/"
        },
        "id": "nUO_9WA9Rdah",
        "outputId": "d9cd6e02-7e2b-426f-a09b-413dd8d58cdb"
      },
      "execution_count": 12,
      "outputs": [
        {
          "output_type": "stream",
          "name": "stdout",
          "text": [
            "Rows with missing values: 429435\n"
          ]
        }
      ]
    },
    {
      "cell_type": "code",
      "source": [
        "from pyspark.sql.functions import col, isnull, isnan, sum as spark_sum\n",
        "from pyspark.sql.types import NumericType\n",
        "\n",
        "\n",
        "missing_exprs = [\n",
        "    spark_sum(\n",
        "        (isnull(col(c)) | isnan(col(c))).cast(\"int\") if isinstance(df.schema[c].dataType, NumericType)\n",
        "        else isnull(col(c)).cast(\"int\")\n",
        "    ).alias(c)\n",
        "    for c in df.columns\n",
        "]\n",
        "\n",
        "\n",
        "df.select(missing_exprs).show()"
      ],
      "metadata": {
        "colab": {
          "base_uri": "https://localhost:8080/"
        },
        "id": "Tvh45rIdUGet",
        "outputId": "0d1c2433-f680-46e6-aa08-1383a75643db"
      },
      "execution_count": 13,
      "outputs": [
        {
          "output_type": "stream",
          "name": "stdout",
          "text": [
            "+--------+---------+--------+----+-----------+---------+------------------+------------+----------+-------------------+-----------------------+---------------------+------------------------------+------------------------+----------------------+-------------------------------+-----------------+------------+------------------------+-------------+-------------------------+---------------------+---------------------------------+----------------------+----------------------------------+-----------+---------+------------------------+----------------------+------------------+-------------------------------+-------------+--------------+-----------+------------------+-----------------+-----------------------+--------------+----------------+-------------------------+------------------------------+-----------------------------+-----------------------------------+--------------------------+-------------------------------------+------------------------------+------------------------------------------+----------------+------------------+----------+-------------+-------------+--------------+---------------+---------------------+-------------------+--------------+------------+----------------------+--------------------------+---------------+-----------------------+----------+------------------------------------+---------------------------+----------------+---------------------------------------+\n",
            "|iso_code|continent|location|date|total_cases|new_cases|new_cases_smoothed|total_deaths|new_deaths|new_deaths_smoothed|total_cases_per_million|new_cases_per_million|new_cases_smoothed_per_million|total_deaths_per_million|new_deaths_per_million|new_deaths_smoothed_per_million|reproduction_rate|icu_patients|icu_patients_per_million|hosp_patients|hosp_patients_per_million|weekly_icu_admissions|weekly_icu_admissions_per_million|weekly_hosp_admissions|weekly_hosp_admissions_per_million|total_tests|new_tests|total_tests_per_thousand|new_tests_per_thousand|new_tests_smoothed|new_tests_smoothed_per_thousand|positive_rate|tests_per_case|tests_units|total_vaccinations|people_vaccinated|people_fully_vaccinated|total_boosters|new_vaccinations|new_vaccinations_smoothed|total_vaccinations_per_hundred|people_vaccinated_per_hundred|people_fully_vaccinated_per_hundred|total_boosters_per_hundred|new_vaccinations_smoothed_per_million|new_people_vaccinated_smoothed|new_people_vaccinated_smoothed_per_hundred|stringency_index|population_density|median_age|aged_65_older|aged_70_older|gdp_per_capita|extreme_poverty|cardiovasc_death_rate|diabetes_prevalence|female_smokers|male_smokers|handwashing_facilities|hospital_beds_per_thousand|life_expectancy|human_development_index|population|excess_mortality_cumulative_absolute|excess_mortality_cumulative|excess_mortality|excess_mortality_cumulative_per_million|\n",
            "+--------+---------+--------+----+-----------+---------+------------------+------------+----------+-------------------+-----------------------+---------------------+------------------------------+------------------------+----------------------+-------------------------------+-----------------+------------+------------------------+-------------+-------------------------+---------------------+---------------------------------+----------------------+----------------------------------+-----------+---------+------------------------+----------------------+------------------+-------------------------------+-------------+--------------+-----------+------------------+-----------------+-----------------------+--------------+----------------+-------------------------+------------------------------+-----------------------------+-----------------------------------+--------------------------+-------------------------------------+------------------------------+------------------------------------------+----------------+------------------+----------+-------------+-------------+--------------+---------------+---------------------+-------------------+--------------+------------+----------------------+--------------------------+---------------+-----------------------+----------+------------------------------------+---------------------------+----------------+---------------------------------------+\n",
            "|       0|    26525|       0|   0|      17631|    19276|             20506|       17631|     18827|              20057|                  17631|                19276|                         20506|                   17631|                 18827|                          20057|           244618|      390319|                  390319|       388779|                   388779|               418442|                           418442|                404938|                            404938|     350048|   354032|                  350048|                354032|            325470|                         325470|       333508|        335087|     322647|            344018|           348303|                 351374|        375835|          358464|                   234406|                        344018|                       348303|                             351374|                    375835|                               234406|                        237258|                                    237258|          233245|             68943|     94772|       106165|        98120|        101143|         217439|               100570|              83524|        182270|      185618|                267694|                    138746|          39136|                 110308|         0|                              416024|                     416024|          416024|                                 416024|\n",
            "+--------+---------+--------+----+-----------+---------+------------------+------------+----------+-------------------+-----------------------+---------------------+------------------------------+------------------------+----------------------+-------------------------------+-----------------+------------+------------------------+-------------+-------------------------+---------------------+---------------------------------+----------------------+----------------------------------+-----------+---------+------------------------+----------------------+------------------+-------------------------------+-------------+--------------+-----------+------------------+-----------------+-----------------------+--------------+----------------+-------------------------+------------------------------+-----------------------------+-----------------------------------+--------------------------+-------------------------------------+------------------------------+------------------------------------------+----------------+------------------+----------+-------------+-------------+--------------+---------------+---------------------+-------------------+--------------+------------+----------------------+--------------------------+---------------+-----------------------+----------+------------------------------------+---------------------------+----------------+---------------------------------------+\n",
            "\n"
          ]
        }
      ]
    },
    {
      "cell_type": "code",
      "source": [
        "from pyspark.ml.feature import StringIndexer\n",
        "\n",
        "# Step 1: Define the indexer\n",
        "country_indexer = StringIndexer(inputCol=\"location\", outputCol=\"location_index\")\n",
        "\n",
        "# Step 2: Fit and transform the DataFrame\n",
        "df = country_indexer.fit(df).transform(df)\n",
        "\n",
        "# Step 3: Now you can access the column!\n",
        "df.select(\"location\", \"location_index\").show(5)"
      ],
      "metadata": {
        "colab": {
          "base_uri": "https://localhost:8080/"
        },
        "id": "7Ln69CqChLF2",
        "outputId": "55bfc29e-279d-4852-a9dd-13a10c09d6e3"
      },
      "execution_count": 14,
      "outputs": [
        {
          "output_type": "stream",
          "name": "stdout",
          "text": [
            "+-----------+--------------+\n",
            "|   location|location_index|\n",
            "+-----------+--------------+\n",
            "|Afghanistan|          21.0|\n",
            "|Afghanistan|          21.0|\n",
            "|Afghanistan|          21.0|\n",
            "|Afghanistan|          21.0|\n",
            "|Afghanistan|          21.0|\n",
            "+-----------+--------------+\n",
            "only showing top 5 rows\n",
            "\n"
          ]
        }
      ]
    },
    {
      "cell_type": "markdown",
      "source": [
        "Converted location column to a numerical column under the name of location index for the ML model to understand it properly"
      ],
      "metadata": {
        "id": "MSYLbIJcs4Jz"
      }
    },
    {
      "cell_type": "code",
      "source": [
        "cols_to_impute = [\n",
        "    \"total_cases\", \"new_cases\", \"new_cases_smoothed\",\n",
        "    \"total_deaths\", \"new_deaths\", \"new_deaths_smoothed\",\n",
        "    \"total_cases_per_million\", \"new_cases_per_million\", \"new_cases_smoothed_per_million\",\n",
        "    \"total_deaths_per_million\", \"new_deaths_per_million\", \"new_deaths_smoothed_per_million\",\n",
        "    \"reproduction_rate\", \"icu_patients\", \"icu_patients_per_million\",\n",
        "    \"hosp_patients\", \"hosp_patients_per_million\",\n",
        "    \"weekly_icu_admissions\", \"weekly_icu_admissions_per_million\", \"weekly_hosp_admissions\",\n",
        "    \"weekly_hosp_admissions_per_million\",\n",
        "    \"total_tests\", \"new_tests\", \"total_tests_per_thousand\", \"new_tests_per_thousand\",\n",
        "    \"new_tests_smoothed\", \"new_tests_smoothed_per_thousand\", \"positive_rate\", \"tests_per_case\", \"tests_units\",\n",
        "    \"total_vaccinations\", \"people_vaccinated\", \"people_fully_vaccinated\", \"total_boosters\",\n",
        "    \"new_vaccinations\", \"new_vaccinations_smoothed\",\n",
        "    \"total_vaccinations_per_hundred\", \"people_vaccinated_per_hundred\", \"people_fully_vaccinated_per_hundred\",\n",
        "    \"total_boosters_per_hundred\", \"new_vaccinations_smoothed_per_million\",\n",
        "    \"new_people_vaccinated_smoothed\", \"new_people_vaccinated_smoothed_per_hundred\"\n",
        "]\n"
      ],
      "metadata": {
        "id": "CKPkinyGhXRA"
      },
      "execution_count": 15,
      "outputs": []
    },
    {
      "cell_type": "code",
      "source": [
        "from pyspark.sql.functions import coalesce, lit\n",
        "\n",
        "# Replace nulls with 0 for each column\n",
        "for col_name in cols_to_impute:\n",
        "    df = df.withColumn(col_name, coalesce(df[col_name], lit(0)))\n"
      ],
      "metadata": {
        "id": "IpzHtXEekh5t"
      },
      "execution_count": 16,
      "outputs": []
    },
    {
      "cell_type": "markdown",
      "source": [
        " This technique indicates that no data was recorded due to lack of cases, inactivity, or non-reporting, rather than data corruption. Therefore, imputing with 0 ensures that the model treats these as zero events rather than discards them as unknowns, which helps preserve the structure and completeness of the time-series data.\""
      ],
      "metadata": {
        "id": "nFciVdl1sQ9M"
      }
    },
    {
      "cell_type": "code",
      "source": [
        "median_impute_cols = [\n",
        "    \"stringency_index\", \"population_density\", \"median_age\",\n",
        "    \"aged_65_older\", \"aged_70_older\", \"gdp_per_capita\",\n",
        "    \"extreme_poverty\", \"cardiovasc_death_rate\", \"diabetes_prevalence\",\n",
        "    \"female_smokers\", \"male_smokers\", \"handwashing_facilities\",\n",
        "    \"hospital_beds_per_thousand\", \"life_expectancy\", \"human_development_index\",\n",
        "    \"population\", \"excess_mortality_cumulative_absolute\", \"excess_mortality_cumulative\",\n",
        "    \"excess_mortality\", \"excess_mortality_cumulative_per_million\"\n",
        "]"
      ],
      "metadata": {
        "id": "fNLxQfUTrU9v"
      },
      "execution_count": 17,
      "outputs": []
    },
    {
      "cell_type": "code",
      "source": [
        "from pyspark.ml.feature import Imputer\n",
        "\n",
        "imputer_median = Imputer(\n",
        "    inputCols=median_impute_cols,\n",
        "    outputCols=median_impute_cols\n",
        ").setStrategy(\"median\")\n",
        "\n",
        "df = imputer_median.fit(df).transform(df)"
      ],
      "metadata": {
        "id": "VUcTap6QrVYL"
      },
      "execution_count": 18,
      "outputs": []
    },
    {
      "cell_type": "markdown",
      "source": [
        "The following columns were imputed using the median strategy because the data appears to be skewed — likely due to variability across countries, differing population demographics, healthcare access, and incomplete reporting during the COVID-19 pandemic. Median is more robust to outliers and missing values, making it a safer choice for skewed datasets like this one."
      ],
      "metadata": {
        "id": "6RvUcElurVik"
      }
    },
    {
      "cell_type": "code",
      "source": [
        "from pyspark.sql.functions import when, col\n",
        "\n",
        "df = df.withColumn(\"continent\", when(col(\"continent\").isNull(), \"Unknown\").otherwise(col(\"continent\")))"
      ],
      "metadata": {
        "id": "3Fu8WDeFrWHq"
      },
      "execution_count": 19,
      "outputs": []
    },
    {
      "cell_type": "markdown",
      "source": [
        "Missing values in the continent column were filled with 'Unknown' to avoid incorrect assumptions. Since continent is a categorical variable, imputing with the most common value could introduce bias. Using 'Unknown' preserves data integrity and allows the model to treat these cases separately."
      ],
      "metadata": {
        "id": "P4pEcCEhsYXY"
      }
    },
    {
      "cell_type": "code",
      "source": [
        "from pyspark.sql.functions import col, isnull, isnan, sum as spark_sum\n",
        "from pyspark.sql.types import NumericType\n",
        "\n",
        "\n",
        "missing_exprs = [\n",
        "    spark_sum(\n",
        "        (isnull(col(c)) | isnan(col(c))).cast(\"int\") if isinstance(df.schema[c].dataType, NumericType)\n",
        "        else isnull(col(c)).cast(\"int\")\n",
        "    ).alias(c)\n",
        "    for c in df.columns\n",
        "]\n",
        "\n",
        "\n",
        "df.select(missing_exprs).show()"
      ],
      "metadata": {
        "id": "2lmPcLMDr4bZ",
        "colab": {
          "base_uri": "https://localhost:8080/"
        },
        "outputId": "99b7cc9d-8cb0-46bd-82ff-fc36f42746ab"
      },
      "execution_count": 20,
      "outputs": [
        {
          "output_type": "stream",
          "name": "stdout",
          "text": [
            "+--------+---------+--------+----+-----------+---------+------------------+------------+----------+-------------------+-----------------------+---------------------+------------------------------+------------------------+----------------------+-------------------------------+-----------------+------------+------------------------+-------------+-------------------------+---------------------+---------------------------------+----------------------+----------------------------------+-----------+---------+------------------------+----------------------+------------------+-------------------------------+-------------+--------------+-----------+------------------+-----------------+-----------------------+--------------+----------------+-------------------------+------------------------------+-----------------------------+-----------------------------------+--------------------------+-------------------------------------+------------------------------+------------------------------------------+----------------+------------------+----------+-------------+-------------+--------------+---------------+---------------------+-------------------+--------------+------------+----------------------+--------------------------+---------------+-----------------------+----------+------------------------------------+---------------------------+----------------+---------------------------------------+--------------+\n",
            "|iso_code|continent|location|date|total_cases|new_cases|new_cases_smoothed|total_deaths|new_deaths|new_deaths_smoothed|total_cases_per_million|new_cases_per_million|new_cases_smoothed_per_million|total_deaths_per_million|new_deaths_per_million|new_deaths_smoothed_per_million|reproduction_rate|icu_patients|icu_patients_per_million|hosp_patients|hosp_patients_per_million|weekly_icu_admissions|weekly_icu_admissions_per_million|weekly_hosp_admissions|weekly_hosp_admissions_per_million|total_tests|new_tests|total_tests_per_thousand|new_tests_per_thousand|new_tests_smoothed|new_tests_smoothed_per_thousand|positive_rate|tests_per_case|tests_units|total_vaccinations|people_vaccinated|people_fully_vaccinated|total_boosters|new_vaccinations|new_vaccinations_smoothed|total_vaccinations_per_hundred|people_vaccinated_per_hundred|people_fully_vaccinated_per_hundred|total_boosters_per_hundred|new_vaccinations_smoothed_per_million|new_people_vaccinated_smoothed|new_people_vaccinated_smoothed_per_hundred|stringency_index|population_density|median_age|aged_65_older|aged_70_older|gdp_per_capita|extreme_poverty|cardiovasc_death_rate|diabetes_prevalence|female_smokers|male_smokers|handwashing_facilities|hospital_beds_per_thousand|life_expectancy|human_development_index|population|excess_mortality_cumulative_absolute|excess_mortality_cumulative|excess_mortality|excess_mortality_cumulative_per_million|location_index|\n",
            "+--------+---------+--------+----+-----------+---------+------------------+------------+----------+-------------------+-----------------------+---------------------+------------------------------+------------------------+----------------------+-------------------------------+-----------------+------------+------------------------+-------------+-------------------------+---------------------+---------------------------------+----------------------+----------------------------------+-----------+---------+------------------------+----------------------+------------------+-------------------------------+-------------+--------------+-----------+------------------+-----------------+-----------------------+--------------+----------------+-------------------------+------------------------------+-----------------------------+-----------------------------------+--------------------------+-------------------------------------+------------------------------+------------------------------------------+----------------+------------------+----------+-------------+-------------+--------------+---------------+---------------------+-------------------+--------------+------------+----------------------+--------------------------+---------------+-----------------------+----------+------------------------------------+---------------------------+----------------+---------------------------------------+--------------+\n",
            "|       0|        0|       0|   0|          0|        0|                 0|           0|         0|                  0|                      0|                    0|                             0|                       0|                     0|                              0|                0|           0|                       0|            0|                        0|                    0|                                0|                     0|                                 0|          0|        0|                       0|                     0|                 0|                              0|            0|             0|          0|                 0|                0|                      0|             0|               0|                        0|                             0|                            0|                                  0|                         0|                                    0|                             0|                                         0|               0|                 0|         0|            0|            0|             0|              0|                    0|                  0|             0|           0|                     0|                         0|              0|                      0|         0|                                   0|                          0|               0|                                      0|             0|\n",
            "+--------+---------+--------+----+-----------+---------+------------------+------------+----------+-------------------+-----------------------+---------------------+------------------------------+------------------------+----------------------+-------------------------------+-----------------+------------+------------------------+-------------+-------------------------+---------------------+---------------------------------+----------------------+----------------------------------+-----------+---------+------------------------+----------------------+------------------+-------------------------------+-------------+--------------+-----------+------------------+-----------------+-----------------------+--------------+----------------+-------------------------+------------------------------+-----------------------------+-----------------------------------+--------------------------+-------------------------------------+------------------------------+------------------------------------------+----------------+------------------+----------+-------------+-------------+--------------+---------------+---------------------+-------------------+--------------+------------+----------------------+--------------------------+---------------+-----------------------+----------+------------------------------------+---------------------------+----------------+---------------------------------------+--------------+\n",
            "\n"
          ]
        }
      ]
    },
    {
      "cell_type": "markdown",
      "source": [
        "Feature Engineering"
      ],
      "metadata": {
        "id": "yQyAYoFdtGo6"
      }
    },
    {
      "cell_type": "code",
      "source": [
        "from pyspark.sql.window import Window\n",
        "from pyspark.sql.functions import col, expr, when, broadcast\n",
        "\n",
        "# Step 1: Get 90th percentile threshold for each country\n",
        "thresholds = df.groupBy(\"location\").agg(\n",
        "    expr(\"percentile_approx(new_deaths_per_million, 0.9)\").alias(\"risk_threshold\")\n",
        ")\n",
        "\n",
        "# Step 2: Join thresholds back to original DataFrame\n",
        "df = df.join(broadcast(thresholds), on=\"location\", how=\"left\")\n",
        "\n",
        "# Step 3: Create the high_risk column\n",
        "df = df.withColumn(\"high_risk\", when(col(\"new_deaths_per_million\") > col(\"risk_threshold\"), 1).otherwise(0))\n"
      ],
      "metadata": {
        "id": "bWZoOGX5tHZ2"
      },
      "execution_count": null,
      "outputs": []
    },
    {
      "cell_type": "code",
      "source": [
        "df.select(\"high_risk\").show(5)"
      ],
      "metadata": {
        "colab": {
          "base_uri": "https://localhost:8080/"
        },
        "id": "D2sgfLgdvh6f",
        "outputId": "ed515074-106f-4586-f8a2-c26b26f80c59"
      },
      "execution_count": null,
      "outputs": [
        {
          "output_type": "stream",
          "name": "stdout",
          "text": [
            "+---------+\n",
            "|high_risk|\n",
            "+---------+\n",
            "|        0|\n",
            "|        0|\n",
            "|        0|\n",
            "|        0|\n",
            "|        0|\n",
            "+---------+\n",
            "only showing top 5 rows\n",
            "\n"
          ]
        }
      ]
    },
    {
      "cell_type": "markdown",
      "source": [
        "COVID-19 severity varies drastically across countries. Using a universal threshold to define \"high-risk\" days would unfairly flag smaller or low-reporting countries.\n",
        "By using a country-specific 90th percentile, we define high-risk days relative to each country’s own data, allowing fair and consistent classification.\n",
        "\n",
        "This ensures machine learning model to learn patterns that reflect localized severity, not global bias."
      ],
      "metadata": {
        "id": "PJ40s4h_wHvX"
      }
    },
    {
      "cell_type": "code",
      "source": [
        "selected_features = [\n",
        "    \"total_cases\", \"new_cases\", \"new_cases_smoothed\",\n",
        "    \"total_deaths\", \"new_deaths\", \"new_deaths_smoothed\",\n",
        "    \"reproduction_rate\", \"icu_patients\", \"icu_patients_per_million\",\n",
        "    \"hosp_patients\", \"hosp_patients_per_million\",\n",
        "    \"weekly_icu_admissions\", \"weekly_icu_admissions_per_million\",\n",
        "    \"weekly_hosp_admissions\", \"weekly_hosp_admissions_per_million\",\n",
        "    \"total_tests\", \"new_tests\", \"total_tests_per_thousand\",\n",
        "    \"new_tests_per_thousand\", \"new_tests_smoothed\", \"new_tests_smoothed_per_thousand\",\n",
        "    \"positive_rate\", \"tests_per_case\", \"total_vaccinations\", \"people_vaccinated\",\n",
        "    \"people_fully_vaccinated\", \"total_boosters\", \"new_vaccinations\", \"new_vaccinations_smoothed\",\n",
        "    \"total_vaccinations_per_hundred\", \"people_vaccinated_per_hundred\",\n",
        "    \"people_fully_vaccinated_per_hundred\", \"total_boosters_per_hundred\",\n",
        "    \"new_vaccinations_smoothed_per_million\", \"new_people_vaccinated_smoothed\",\n",
        "    \"new_people_vaccinated_smoothed_per_hundred\", \"stringency_index\", \"population_density\",\n",
        "    \"median_age\", \"aged_65_older\", \"aged_70_older\", \"gdp_per_capita\", \"extreme_poverty\",\n",
        "    \"cardiovasc_death_rate\", \"diabetes_prevalence\", \"female_smokers\", \"male_smokers\",\n",
        "    \"handwashing_facilities\", \"hospital_beds_per_thousand\", \"life_expectancy\",\n",
        "    \"human_development_index\", \"population\", \"location_index\"\n",
        "]"
      ],
      "metadata": {
        "id": "ok-Brcig-M6F"
      },
      "execution_count": null,
      "outputs": []
    },
    {
      "cell_type": "code",
      "source": [
        "# Convert to Pandas\n",
        "pandas_df = df.select(selected_features + [\"high_risk\"]).dropna().toPandas()"
      ],
      "metadata": {
        "id": "QXuQVsiLBsw6"
      },
      "execution_count": null,
      "outputs": []
    },
    {
      "cell_type": "code",
      "source": [
        "!pip install -q imbalanced-learn"
      ],
      "metadata": {
        "id": "bnmm8EKRCC2U"
      },
      "execution_count": null,
      "outputs": []
    },
    {
      "cell_type": "code",
      "source": [
        "from imblearn.combine import SMOTEENN\n",
        "\n",
        "X = pandas_df[selected_features]\n",
        "y = pandas_df[\"high_risk\"]\n",
        "\n",
        "smote_enn = SMOTEENN(random_state=42)\n",
        "X_resampled, y_resampled = smote_enn.fit_resample(X, y)"
      ],
      "metadata": {
        "id": "RrhD8JFGCTa2"
      },
      "execution_count": null,
      "outputs": []
    },
    {
      "cell_type": "markdown",
      "source": [
        "Data Exploration and Analysis"
      ],
      "metadata": {
        "id": "jZs3ZNhNwY4m"
      }
    },
    {
      "cell_type": "code",
      "execution_count": 21,
      "metadata": {
        "id": "jcVJQeRFDuWD",
        "colab": {
          "base_uri": "https://localhost:8080/",
          "height": 249
        },
        "outputId": "222fe36b-b58a-412a-f9ae-f2efc19b022f"
      },
      "outputs": [
        {
          "output_type": "display_data",
          "data": {
            "text/plain": [
              "  summary iso_code continent     location          total_cases  \\\n",
              "0   count   429435    429435       429435               429435   \n",
              "1    mean     None      None         None    7062900.911071524   \n",
              "2  stddev     None      None         None  4.387136536845076E7   \n",
              "3     min      ABW    Africa  Afghanistan                  0.0   \n",
              "4     max      ZWE   Unknown     Zimbabwe         7.75866783E8   \n",
              "\n",
              "            new_cases new_cases_smoothed       total_deaths  \\\n",
              "0              429435             429435             429435   \n",
              "1    7657.48561016219  7657.057829915931  77923.35912536239   \n",
              "2  224457.34501769993   84540.1937714323  432339.1466259931   \n",
              "3                 0.0                0.0                0.0   \n",
              "4         4.4236227E7          6319461.0          7057132.0   \n",
              "\n",
              "           new_deaths new_deaths_smoothed  ... handwashing_facilities  \\\n",
              "0              429435              429435  ...                 429435   \n",
              "1   68.70204571122521   68.69522989974558  ...     49.959036277883555   \n",
              "2  1338.0730823793424   501.7287324450874  ...      19.58787557141258   \n",
              "3                 0.0                 0.0  ...                  1.188   \n",
              "4            103719.0             14817.0  ...                  100.0   \n",
              "\n",
              "  hospital_beds_per_thousand     life_expectancy human_development_index  \\\n",
              "0                     429435              429435                  429435   \n",
              "1         2.9108252052114634   73.82493762739844      0.7267270390164813   \n",
              "2           2.11646348609347  7.0539039165403485      0.1285985768029083   \n",
              "3                        0.1               53.28                   0.394   \n",
              "4                       13.8               86.75                   0.957   \n",
              "\n",
              "             population excess_mortality_cumulative_absolute  \\\n",
              "0                429435                               429435   \n",
              "1  1.5203364039627418E8                    8311.720705278938   \n",
              "2   6.975407716681025E8                    29015.37601204795   \n",
              "3                    47                           -37726.098   \n",
              "4            7975105024                            1349776.4   \n",
              "\n",
              "  excess_mortality_cumulative   excess_mortality  \\\n",
              "0                      429435             429435   \n",
              "1           8.181104777166045  5.824433849122817   \n",
              "2           2.146683655958962  4.435748604239249   \n",
              "3                      -44.23             -95.92   \n",
              "4                       78.08             378.22   \n",
              "\n",
              "  excess_mortality_cumulative_per_million     location_index  \n",
              "0                                  429435             429435  \n",
              "1                      1282.5407497446179  123.1562215469163  \n",
              "2                       362.8248486901406  73.90833935215709  \n",
              "3                              -2936.4531                0.0  \n",
              "4                               10293.515              254.0  \n",
              "\n",
              "[5 rows x 68 columns]"
            ],
            "text/html": [
              "\n",
              "  <div id=\"df-637badf2-55a7-4c4d-8c77-a0f7f62e8d71\" class=\"colab-df-container\">\n",
              "    <div>\n",
              "<style scoped>\n",
              "    .dataframe tbody tr th:only-of-type {\n",
              "        vertical-align: middle;\n",
              "    }\n",
              "\n",
              "    .dataframe tbody tr th {\n",
              "        vertical-align: top;\n",
              "    }\n",
              "\n",
              "    .dataframe thead th {\n",
              "        text-align: right;\n",
              "    }\n",
              "</style>\n",
              "<table border=\"1\" class=\"dataframe\">\n",
              "  <thead>\n",
              "    <tr style=\"text-align: right;\">\n",
              "      <th></th>\n",
              "      <th>summary</th>\n",
              "      <th>iso_code</th>\n",
              "      <th>continent</th>\n",
              "      <th>location</th>\n",
              "      <th>total_cases</th>\n",
              "      <th>new_cases</th>\n",
              "      <th>new_cases_smoothed</th>\n",
              "      <th>total_deaths</th>\n",
              "      <th>new_deaths</th>\n",
              "      <th>new_deaths_smoothed</th>\n",
              "      <th>...</th>\n",
              "      <th>handwashing_facilities</th>\n",
              "      <th>hospital_beds_per_thousand</th>\n",
              "      <th>life_expectancy</th>\n",
              "      <th>human_development_index</th>\n",
              "      <th>population</th>\n",
              "      <th>excess_mortality_cumulative_absolute</th>\n",
              "      <th>excess_mortality_cumulative</th>\n",
              "      <th>excess_mortality</th>\n",
              "      <th>excess_mortality_cumulative_per_million</th>\n",
              "      <th>location_index</th>\n",
              "    </tr>\n",
              "  </thead>\n",
              "  <tbody>\n",
              "    <tr>\n",
              "      <th>0</th>\n",
              "      <td>count</td>\n",
              "      <td>429435</td>\n",
              "      <td>429435</td>\n",
              "      <td>429435</td>\n",
              "      <td>429435</td>\n",
              "      <td>429435</td>\n",
              "      <td>429435</td>\n",
              "      <td>429435</td>\n",
              "      <td>429435</td>\n",
              "      <td>429435</td>\n",
              "      <td>...</td>\n",
              "      <td>429435</td>\n",
              "      <td>429435</td>\n",
              "      <td>429435</td>\n",
              "      <td>429435</td>\n",
              "      <td>429435</td>\n",
              "      <td>429435</td>\n",
              "      <td>429435</td>\n",
              "      <td>429435</td>\n",
              "      <td>429435</td>\n",
              "      <td>429435</td>\n",
              "    </tr>\n",
              "    <tr>\n",
              "      <th>1</th>\n",
              "      <td>mean</td>\n",
              "      <td>None</td>\n",
              "      <td>None</td>\n",
              "      <td>None</td>\n",
              "      <td>7062900.911071524</td>\n",
              "      <td>7657.48561016219</td>\n",
              "      <td>7657.057829915931</td>\n",
              "      <td>77923.35912536239</td>\n",
              "      <td>68.70204571122521</td>\n",
              "      <td>68.69522989974558</td>\n",
              "      <td>...</td>\n",
              "      <td>49.959036277883555</td>\n",
              "      <td>2.9108252052114634</td>\n",
              "      <td>73.82493762739844</td>\n",
              "      <td>0.7267270390164813</td>\n",
              "      <td>1.5203364039627418E8</td>\n",
              "      <td>8311.720705278938</td>\n",
              "      <td>8.181104777166045</td>\n",
              "      <td>5.824433849122817</td>\n",
              "      <td>1282.5407497446179</td>\n",
              "      <td>123.1562215469163</td>\n",
              "    </tr>\n",
              "    <tr>\n",
              "      <th>2</th>\n",
              "      <td>stddev</td>\n",
              "      <td>None</td>\n",
              "      <td>None</td>\n",
              "      <td>None</td>\n",
              "      <td>4.387136536845076E7</td>\n",
              "      <td>224457.34501769993</td>\n",
              "      <td>84540.1937714323</td>\n",
              "      <td>432339.1466259931</td>\n",
              "      <td>1338.0730823793424</td>\n",
              "      <td>501.7287324450874</td>\n",
              "      <td>...</td>\n",
              "      <td>19.58787557141258</td>\n",
              "      <td>2.11646348609347</td>\n",
              "      <td>7.0539039165403485</td>\n",
              "      <td>0.1285985768029083</td>\n",
              "      <td>6.975407716681025E8</td>\n",
              "      <td>29015.37601204795</td>\n",
              "      <td>2.146683655958962</td>\n",
              "      <td>4.435748604239249</td>\n",
              "      <td>362.8248486901406</td>\n",
              "      <td>73.90833935215709</td>\n",
              "    </tr>\n",
              "    <tr>\n",
              "      <th>3</th>\n",
              "      <td>min</td>\n",
              "      <td>ABW</td>\n",
              "      <td>Africa</td>\n",
              "      <td>Afghanistan</td>\n",
              "      <td>0.0</td>\n",
              "      <td>0.0</td>\n",
              "      <td>0.0</td>\n",
              "      <td>0.0</td>\n",
              "      <td>0.0</td>\n",
              "      <td>0.0</td>\n",
              "      <td>...</td>\n",
              "      <td>1.188</td>\n",
              "      <td>0.1</td>\n",
              "      <td>53.28</td>\n",
              "      <td>0.394</td>\n",
              "      <td>47</td>\n",
              "      <td>-37726.098</td>\n",
              "      <td>-44.23</td>\n",
              "      <td>-95.92</td>\n",
              "      <td>-2936.4531</td>\n",
              "      <td>0.0</td>\n",
              "    </tr>\n",
              "    <tr>\n",
              "      <th>4</th>\n",
              "      <td>max</td>\n",
              "      <td>ZWE</td>\n",
              "      <td>Unknown</td>\n",
              "      <td>Zimbabwe</td>\n",
              "      <td>7.75866783E8</td>\n",
              "      <td>4.4236227E7</td>\n",
              "      <td>6319461.0</td>\n",
              "      <td>7057132.0</td>\n",
              "      <td>103719.0</td>\n",
              "      <td>14817.0</td>\n",
              "      <td>...</td>\n",
              "      <td>100.0</td>\n",
              "      <td>13.8</td>\n",
              "      <td>86.75</td>\n",
              "      <td>0.957</td>\n",
              "      <td>7975105024</td>\n",
              "      <td>1349776.4</td>\n",
              "      <td>78.08</td>\n",
              "      <td>378.22</td>\n",
              "      <td>10293.515</td>\n",
              "      <td>254.0</td>\n",
              "    </tr>\n",
              "  </tbody>\n",
              "</table>\n",
              "<p>5 rows × 68 columns</p>\n",
              "</div>\n",
              "    <div class=\"colab-df-buttons\">\n",
              "\n",
              "  <div class=\"colab-df-container\">\n",
              "    <button class=\"colab-df-convert\" onclick=\"convertToInteractive('df-637badf2-55a7-4c4d-8c77-a0f7f62e8d71')\"\n",
              "            title=\"Convert this dataframe to an interactive table.\"\n",
              "            style=\"display:none;\">\n",
              "\n",
              "  <svg xmlns=\"http://www.w3.org/2000/svg\" height=\"24px\" viewBox=\"0 -960 960 960\">\n",
              "    <path d=\"M120-120v-720h720v720H120Zm60-500h600v-160H180v160Zm220 220h160v-160H400v160Zm0 220h160v-160H400v160ZM180-400h160v-160H180v160Zm440 0h160v-160H620v160ZM180-180h160v-160H180v160Zm440 0h160v-160H620v160Z\"/>\n",
              "  </svg>\n",
              "    </button>\n",
              "\n",
              "  <style>\n",
              "    .colab-df-container {\n",
              "      display:flex;\n",
              "      gap: 12px;\n",
              "    }\n",
              "\n",
              "    .colab-df-convert {\n",
              "      background-color: #E8F0FE;\n",
              "      border: none;\n",
              "      border-radius: 50%;\n",
              "      cursor: pointer;\n",
              "      display: none;\n",
              "      fill: #1967D2;\n",
              "      height: 32px;\n",
              "      padding: 0 0 0 0;\n",
              "      width: 32px;\n",
              "    }\n",
              "\n",
              "    .colab-df-convert:hover {\n",
              "      background-color: #E2EBFA;\n",
              "      box-shadow: 0px 1px 2px rgba(60, 64, 67, 0.3), 0px 1px 3px 1px rgba(60, 64, 67, 0.15);\n",
              "      fill: #174EA6;\n",
              "    }\n",
              "\n",
              "    .colab-df-buttons div {\n",
              "      margin-bottom: 4px;\n",
              "    }\n",
              "\n",
              "    [theme=dark] .colab-df-convert {\n",
              "      background-color: #3B4455;\n",
              "      fill: #D2E3FC;\n",
              "    }\n",
              "\n",
              "    [theme=dark] .colab-df-convert:hover {\n",
              "      background-color: #434B5C;\n",
              "      box-shadow: 0px 1px 3px 1px rgba(0, 0, 0, 0.15);\n",
              "      filter: drop-shadow(0px 1px 2px rgba(0, 0, 0, 0.3));\n",
              "      fill: #FFFFFF;\n",
              "    }\n",
              "  </style>\n",
              "\n",
              "    <script>\n",
              "      const buttonEl =\n",
              "        document.querySelector('#df-637badf2-55a7-4c4d-8c77-a0f7f62e8d71 button.colab-df-convert');\n",
              "      buttonEl.style.display =\n",
              "        google.colab.kernel.accessAllowed ? 'block' : 'none';\n",
              "\n",
              "      async function convertToInteractive(key) {\n",
              "        const element = document.querySelector('#df-637badf2-55a7-4c4d-8c77-a0f7f62e8d71');\n",
              "        const dataTable =\n",
              "          await google.colab.kernel.invokeFunction('convertToInteractive',\n",
              "                                                    [key], {});\n",
              "        if (!dataTable) return;\n",
              "\n",
              "        const docLinkHtml = 'Like what you see? Visit the ' +\n",
              "          '<a target=\"_blank\" href=https://colab.research.google.com/notebooks/data_table.ipynb>data table notebook</a>'\n",
              "          + ' to learn more about interactive tables.';\n",
              "        element.innerHTML = '';\n",
              "        dataTable['output_type'] = 'display_data';\n",
              "        await google.colab.output.renderOutput(dataTable, element);\n",
              "        const docLink = document.createElement('div');\n",
              "        docLink.innerHTML = docLinkHtml;\n",
              "        element.appendChild(docLink);\n",
              "      }\n",
              "    </script>\n",
              "  </div>\n",
              "\n",
              "\n",
              "<div id=\"df-393bff35-899f-4b2d-a41d-5315dc890ef0\">\n",
              "  <button class=\"colab-df-quickchart\" onclick=\"quickchart('df-393bff35-899f-4b2d-a41d-5315dc890ef0')\"\n",
              "            title=\"Suggest charts\"\n",
              "            style=\"display:none;\">\n",
              "\n",
              "<svg xmlns=\"http://www.w3.org/2000/svg\" height=\"24px\"viewBox=\"0 0 24 24\"\n",
              "     width=\"24px\">\n",
              "    <g>\n",
              "        <path d=\"M19 3H5c-1.1 0-2 .9-2 2v14c0 1.1.9 2 2 2h14c1.1 0 2-.9 2-2V5c0-1.1-.9-2-2-2zM9 17H7v-7h2v7zm4 0h-2V7h2v10zm4 0h-2v-4h2v4z\"/>\n",
              "    </g>\n",
              "</svg>\n",
              "  </button>\n",
              "\n",
              "<style>\n",
              "  .colab-df-quickchart {\n",
              "      --bg-color: #E8F0FE;\n",
              "      --fill-color: #1967D2;\n",
              "      --hover-bg-color: #E2EBFA;\n",
              "      --hover-fill-color: #174EA6;\n",
              "      --disabled-fill-color: #AAA;\n",
              "      --disabled-bg-color: #DDD;\n",
              "  }\n",
              "\n",
              "  [theme=dark] .colab-df-quickchart {\n",
              "      --bg-color: #3B4455;\n",
              "      --fill-color: #D2E3FC;\n",
              "      --hover-bg-color: #434B5C;\n",
              "      --hover-fill-color: #FFFFFF;\n",
              "      --disabled-bg-color: #3B4455;\n",
              "      --disabled-fill-color: #666;\n",
              "  }\n",
              "\n",
              "  .colab-df-quickchart {\n",
              "    background-color: var(--bg-color);\n",
              "    border: none;\n",
              "    border-radius: 50%;\n",
              "    cursor: pointer;\n",
              "    display: none;\n",
              "    fill: var(--fill-color);\n",
              "    height: 32px;\n",
              "    padding: 0;\n",
              "    width: 32px;\n",
              "  }\n",
              "\n",
              "  .colab-df-quickchart:hover {\n",
              "    background-color: var(--hover-bg-color);\n",
              "    box-shadow: 0 1px 2px rgba(60, 64, 67, 0.3), 0 1px 3px 1px rgba(60, 64, 67, 0.15);\n",
              "    fill: var(--button-hover-fill-color);\n",
              "  }\n",
              "\n",
              "  .colab-df-quickchart-complete:disabled,\n",
              "  .colab-df-quickchart-complete:disabled:hover {\n",
              "    background-color: var(--disabled-bg-color);\n",
              "    fill: var(--disabled-fill-color);\n",
              "    box-shadow: none;\n",
              "  }\n",
              "\n",
              "  .colab-df-spinner {\n",
              "    border: 2px solid var(--fill-color);\n",
              "    border-color: transparent;\n",
              "    border-bottom-color: var(--fill-color);\n",
              "    animation:\n",
              "      spin 1s steps(1) infinite;\n",
              "  }\n",
              "\n",
              "  @keyframes spin {\n",
              "    0% {\n",
              "      border-color: transparent;\n",
              "      border-bottom-color: var(--fill-color);\n",
              "      border-left-color: var(--fill-color);\n",
              "    }\n",
              "    20% {\n",
              "      border-color: transparent;\n",
              "      border-left-color: var(--fill-color);\n",
              "      border-top-color: var(--fill-color);\n",
              "    }\n",
              "    30% {\n",
              "      border-color: transparent;\n",
              "      border-left-color: var(--fill-color);\n",
              "      border-top-color: var(--fill-color);\n",
              "      border-right-color: var(--fill-color);\n",
              "    }\n",
              "    40% {\n",
              "      border-color: transparent;\n",
              "      border-right-color: var(--fill-color);\n",
              "      border-top-color: var(--fill-color);\n",
              "    }\n",
              "    60% {\n",
              "      border-color: transparent;\n",
              "      border-right-color: var(--fill-color);\n",
              "    }\n",
              "    80% {\n",
              "      border-color: transparent;\n",
              "      border-right-color: var(--fill-color);\n",
              "      border-bottom-color: var(--fill-color);\n",
              "    }\n",
              "    90% {\n",
              "      border-color: transparent;\n",
              "      border-bottom-color: var(--fill-color);\n",
              "    }\n",
              "  }\n",
              "</style>\n",
              "\n",
              "  <script>\n",
              "    async function quickchart(key) {\n",
              "      const quickchartButtonEl =\n",
              "        document.querySelector('#' + key + ' button');\n",
              "      quickchartButtonEl.disabled = true;  // To prevent multiple clicks.\n",
              "      quickchartButtonEl.classList.add('colab-df-spinner');\n",
              "      try {\n",
              "        const charts = await google.colab.kernel.invokeFunction(\n",
              "            'suggestCharts', [key], {});\n",
              "      } catch (error) {\n",
              "        console.error('Error during call to suggestCharts:', error);\n",
              "      }\n",
              "      quickchartButtonEl.classList.remove('colab-df-spinner');\n",
              "      quickchartButtonEl.classList.add('colab-df-quickchart-complete');\n",
              "    }\n",
              "    (() => {\n",
              "      let quickchartButtonEl =\n",
              "        document.querySelector('#df-393bff35-899f-4b2d-a41d-5315dc890ef0 button');\n",
              "      quickchartButtonEl.style.display =\n",
              "        google.colab.kernel.accessAllowed ? 'block' : 'none';\n",
              "    })();\n",
              "  </script>\n",
              "</div>\n",
              "\n",
              "    </div>\n",
              "  </div>\n"
            ],
            "application/vnd.google.colaboratory.intrinsic+json": {
              "type": "dataframe"
            }
          },
          "metadata": {}
        }
      ],
      "source": [
        "display(df.describe().toPandas())"
      ]
    },
    {
      "cell_type": "code",
      "source": [
        "df.groupBy(\"high_risk\").count().show()"
      ],
      "metadata": {
        "id": "SbB0m9UgwK6d"
      },
      "execution_count": null,
      "outputs": []
    },
    {
      "cell_type": "code",
      "source": [
        "df.groupBy(\"location\") \\\n",
        "  .agg({\"new_deaths_per_million\": \"avg\"}) \\\n",
        "  .withColumnRenamed(\"avg(new_deaths_per_million)\", \"avg_deaths_pm\") \\\n",
        "  .orderBy(\"avg_deaths_pm\", ascending=False) \\\n",
        "  .show(10)"
      ],
      "metadata": {
        "id": "ZsyKdeuywzkC",
        "colab": {
          "base_uri": "https://localhost:8080/"
        },
        "outputId": "b98b1e73-e7fe-4584-a878-f76c6b7d14ea"
      },
      "execution_count": 28,
      "outputs": [
        {
          "output_type": "stream",
          "name": "stdout",
          "text": [
            "+--------------------+------------------+\n",
            "|            location|     avg_deaths_pm|\n",
            "+--------------------+------------------+\n",
            "|                Peru|3.9433160095579445|\n",
            "|            Bulgaria|3.3868805256869767|\n",
            "|     North Macedonia| 3.239022700119475|\n",
            "|Bosnia and Herzeg...| 3.055440262843488|\n",
            "|             Hungary| 3.025804659498209|\n",
            "|             Croatia|2.8671176821983275|\n",
            "|            Slovenia|2.8475913978494614|\n",
            "|             Georgia|2.6997514934289124|\n",
            "|          Montenegro| 2.579397849462365|\n",
            "|             Czechia| 2.423581450653982|\n",
            "+--------------------+------------------+\n",
            "only showing top 10 rows\n",
            "\n"
          ]
        }
      ]
    },
    {
      "cell_type": "code",
      "source": [
        "num_cols = [\n",
        "    \"new_cases\", \"new_deaths\", \"positive_rate\",\n",
        "    \"stringency_index\", \"total_vaccinations\", \"reproduction_rate\"\n",
        "]\n",
        "\n",
        "pandas_df = df.select(num_cols).dropna().toPandas()"
      ],
      "metadata": {
        "id": "J4hmWXkmw4J6"
      },
      "execution_count": 23,
      "outputs": []
    },
    {
      "cell_type": "code",
      "source": [
        "plt.figure(figsize=(10, 6))\n",
        "corr = pandas_df.corr()\n",
        "\n",
        "sns.heatmap(corr, annot=True, cmap=\"coolwarm\", linewidths=0.5)\n",
        "plt.title(\"Correlation Heatmap\")\n",
        "plt.xticks(rotation=45)\n",
        "plt.yticks(rotation=0)\n",
        "plt.tight_layout()\n",
        "plt.show()"
      ],
      "metadata": {
        "id": "n5xMMjXfx7gn",
        "colab": {
          "base_uri": "https://localhost:8080/",
          "height": 607
        },
        "outputId": "fce9c220-065e-4245-d5dd-4c380112b593"
      },
      "execution_count": 24,
      "outputs": [
        {
          "output_type": "display_data",
          "data": {
            "text/plain": [
              "<Figure size 1000x600 with 2 Axes>"
            ],
            "image/png": "[encoded data removed]"
          },
          "metadata": {}
        }
      ]
    },
    {
      "cell_type": "code",
      "source": [
        "#-----  Finding Hugh Risk Days in regards to new cases smoothed per million plus new deaths smoothed per million -------\n"
      ],
      "metadata": {
        "id": "t8jYgGKKrB57"
      },
      "execution_count": 1,
      "outputs": []
    },
    {
      "cell_type": "code",
      "source": [
        "from pyspark.sql.functions import col, when\n",
        "\n",
        "# Step 1: Calculate quantiles\n",
        "q_low_cases, q_high_cases = df.approxQuantile(\"new_cases_smoothed_per_million\", [0.3, 0.7], 0.01)\n",
        "q_low_deaths, q_high_deaths = df.approxQuantile(\"new_deaths_smoothed_per_million\", [0.3, 0.7], 0.01)\n",
        "\n",
        "# Step 2: Infection risk based on quantiles\n",
        "df = df.withColumn(\n",
        "    \"infection_risk_level\",\n",
        "    when(col(\"new_cases_smoothed_per_million\") <= q_low_cases, \"Low\")\n",
        "    .when((col(\"new_cases_smoothed_per_million\") > q_low_cases) &\n",
        "          (col(\"new_cases_smoothed_per_million\") <= q_high_cases), \"Medium\")\n",
        "    .otherwise(\"High\")\n",
        ")\n",
        "\n",
        "# Step 3: Death risk based on quantiles\n",
        "df = df.withColumn(\n",
        "    \"death_risk_level\",\n",
        "    when(col(\"new_deaths_smoothed_per_million\") <= q_low_deaths, \"Low\")\n",
        "    .when((col(\"new_deaths_smoothed_per_million\") > q_low_deaths) &\n",
        "          (col(\"new_deaths_smoothed_per_million\") <= q_high_deaths), \"Medium\")\n",
        "    .otherwise(\"High\")\n",
        ")\n",
        "\n",
        "# Step 4: Final combined overall risk label\n",
        "df = df.withColumn(\n",
        "    \"overall_risk_level\",\n",
        "    when((col(\"infection_risk_level\") == \"High\") | (col(\"death_risk_level\") == \"High\"), \"High\")\n",
        "    .when((col(\"infection_risk_level\") == \"Medium\") | (col(\"death_risk_level\") == \"Medium\"), \"Medium\")\n",
        "    .otherwise(\"Low\")\n",
        ")\n",
        "\n",
        "# Step 5: View final class distribution\n",
        "df.groupBy(\"overall_risk_level\").count().orderBy(\"overall_risk_level\").show()\n"
      ],
      "metadata": {
        "colab": {
          "base_uri": "https://localhost:8080/"
        },
        "id": "MIP-j7yGtLVv",
        "outputId": "d1f37f84-4d7b-4b50-af39-f28178424265"
      },
      "execution_count": 34,
      "outputs": [
        {
          "output_type": "stream",
          "name": "stdout",
          "text": [
            "+------------------+------+\n",
            "|overall_risk_level| count|\n",
            "+------------------+------+\n",
            "|              High|160735|\n",
            "|               Low|136444|\n",
            "|            Medium|132256|\n",
            "+------------------+------+\n",
            "\n"
          ]
        }
      ]
    },
    {
      "cell_type": "code",
      "source": [
        "# Convert to Pandas for plotting\n",
        "risk_dist_pd = df.groupBy(\"overall_risk_level\").count().orderBy(\"overall_risk_level\").toPandas()\n",
        "\n",
        "# Plot\n",
        "import matplotlib.pyplot as plt\n",
        "\n",
        "plt.figure(figsize=(6,4))\n",
        "plt.bar(risk_dist_pd[\"overall_risk_level\"], risk_dist_pd[\"count\"], color=[\"green\", \"orange\", \"red\"])\n",
        "plt.title(\"COVID-19 Overall Risk Level Distribution\")\n",
        "plt.xlabel(\"Risk Level\")\n",
        "plt.ylabel(\"Number of Days\")\n",
        "plt.grid(axis='y')\n",
        "plt.tight_layout()\n",
        "plt.show()\n"
      ],
      "metadata": {
        "colab": {
          "base_uri": "https://localhost:8080/",
          "height": 407
        },
        "id": "33_PoeVQuhyG",
        "outputId": "091d6b4f-a3d8-4de2-964c-fced77ce39de"
      },
      "execution_count": 35,
      "outputs": [
        {
          "output_type": "display_data",
          "data": {
            "text/plain": [
              "<Figure size 600x400 with 1 Axes>"
            ],
            "image/png": "[encoded data removed]"
          },
          "metadata": {}
        }
      ]
    },
    {
      "cell_type": "code",
      "source": [
        "from pyspark.ml.feature import VectorAssembler, StringIndexer\n",
        "from pyspark.ml.classification import RandomForestClassifier, LogisticRegression\n",
        "from pyspark.ml import Pipeline\n",
        "from pyspark.ml.evaluation import MulticlassClassificationEvaluator\n",
        "from pyspark.ml.tuning import ParamGridBuilder, CrossValidator\n",
        "\n",
        "# Step 1: Index target column\n",
        "label_indexer = StringIndexer(inputCol=\"overall_risk_level\", outputCol=\"label\")\n",
        "\n",
        "# Step 2: Feature selection (example set — tune this!)\n",
        "feature_cols = [\"stringency_index\", \"reproduction_rate\", \"population_density\", \"gdp_per_capita\", \"diabetes_prevalence\"]\n",
        "assembler = VectorAssembler(inputCols=feature_cols, outputCol=\"features\")\n",
        "\n",
        "# Step 3: Select model\n",
        "rf = RandomForestClassifier(labelCol=\"label\", featuresCol=\"features\")\n",
        "\n",
        "# Step 4: Pipeline\n",
        "pipeline = Pipeline(stages=[label_indexer, assembler, rf])\n",
        "\n",
        "# Step 5: Train/Validation Split\n",
        "train_data, val_data = df.randomSplit([0.8, 0.2], seed=42)\n",
        "\n",
        "# Step 6: Hyperparameter Tuning (Grid Search)\n",
        "paramGrid = ParamGridBuilder() \\\n",
        "    .addGrid(rf.maxDepth, [5, 10]) \\\n",
        "    .addGrid(rf.numTrees, [20, 50]) \\\n",
        "    .build()\n",
        "\n",
        "cv = CrossValidator(estimator=pipeline,\n",
        "                    estimatorParamMaps=paramGrid,\n",
        "                    evaluator=MulticlassClassificationEvaluator(metricName=\"f1\"),\n",
        "                    numFolds=3)\n",
        "\n",
        "# Step 7: Train model\n",
        "cv_model = cv.fit(train_data)\n"
      ],
      "metadata": {
        "id": "OnlUXODsvz_p"
      },
      "execution_count": 36,
      "outputs": []
    },
    {
      "cell_type": "markdown",
      "source": [
        "Model Selection"
      ],
      "metadata": {
        "id": "JhNsFoT5ypbp"
      }
    },
    {
      "cell_type": "code",
      "source": [
        "# Predict on validation set\n",
        "predictions = cv_model.transform(val_data)\n",
        "\n",
        "# Evaluate performance\n",
        "evaluator = MulticlassClassificationEvaluator(labelCol=\"label\", predictionCol=\"prediction\")\n",
        "print(\"Accuracy:\", evaluator.evaluate(predictions, {evaluator.metricName: \"accuracy\"}))\n",
        "print(\"F1 Score:\", evaluator.evaluate(predictions, {evaluator.metricName: \"f1\"}))\n",
        "print(\"Precision:\", evaluator.evaluate(predictions, {evaluator.metricName: \"weightedPrecision\"}))\n",
        "print(\"Recall:\", evaluator.evaluate(predictions, {evaluator.metricName: \"weightedRecall\"}))\n"
      ],
      "metadata": {
        "colab": {
          "base_uri": "https://localhost:8080/"
        },
        "id": "Yh51XTBbCgWw",
        "outputId": "d550f7de-f731-4a92-bc24-ff85999e83b6"
      },
      "execution_count": 37,
      "outputs": [
        {
          "output_type": "stream",
          "name": "stdout",
          "text": [
            "Accuracy: 0.7260600285850405\n",
            "F1 Score: 0.7238039800672433\n",
            "Precision: 0.7382930733674551\n",
            "Recall: 0.7260600285850405\n"
          ]
        }
      ]
    }
  ],
  "metadata": {
    "colab": {
      "provenance": []
    },
    "kernelspec": {
      "display_name": "Python 3",
      "name": "python3"
    },
    "language_info": {
      "codemirror_mode": {
        "name": "ipython",
        "version": 3
      },
      "file_extension": ".py",
      "mimetype": "text/x-python",
      "name": "python",
      "nbconvert_exporter": "python",
      "pygments_lexer": "ipython3",
      "version": "3.11.11"
    }
  },
  "nbformat": 4,
  "nbformat_minor": 0
}